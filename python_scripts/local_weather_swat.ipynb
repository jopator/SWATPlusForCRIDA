{
 "cells": [
  {
   "cell_type": "code",
   "execution_count": 1,
   "id": "30f580dd",
   "metadata": {},
   "outputs": [],
   "source": [
    "'''\n",
    "This notebook is used to produce local weather files for the SWAT+ model of the Katari Basin\n",
    "\n",
    "\n",
    "What it does:\n",
    "- Collects local station data stored in CSV files and produces SWAT+ weather input files\n",
    "- It does it for Precipitation and Max/Min Temperature\n",
    "\n",
    "'''\n",
    "\n",
    "#Importing libraries\n",
    "from ExportWeatherSwatPlus import *\n",
    "import pandas as pd\n",
    "import os\n",
    "\n",
    "os.chdir('..') # Changing to main SWATPlusForCRIDA"
   ]
  },
  {
   "cell_type": "code",
   "execution_count": 2,
   "id": "6ec30ed5",
   "metadata": {},
   "outputs": [],
   "source": [
    "# Functions\n",
    "def create_cli(stat_list,var,cli_path):\n",
    "    with open(cli_path, 'w') as f:\n",
    "        f.write(f\"{var}.cli : written by Jose Teran \\n\")\n",
    "        f.write(f\"filename \\n\")\n",
    "\n",
    "        df_cli = stat_list[[\"NAME\"]]\n",
    "        df_cli = df_cli[\"NAME\"]+\".\"+var\n",
    "        \n",
    "        df_cli.to_csv(f, index=False, header=None, sep=\"\\t\",lineterminator='\\n')\n",
    "         \n",
    "        print(f\"File {cli_path} succesfully saved\")"
   ]
  },
  {
   "cell_type": "markdown",
   "id": "ef00dbbc",
   "metadata": {},
   "source": [
    "# Creating files and saving in a folder"
   ]
  },
  {
   "cell_type": "code",
   "execution_count": null,
   "id": "4fd3b7a3",
   "metadata": {},
   "outputs": [],
   "source": [
    "# paths\n",
    "data_path     = \"data/CaseStudy/data/climate_data/local\"\n",
    "csv_folder    = \"tables\"\n",
    "pcp_folder    = \"pcp\"\n",
    "tmp_folder    = \"tmp\"\n",
    "stations_file = \"data/CaseStudy/data/climate_data/local/tables/katari_pcp_stations.xlsx\""
   ]
  },
  {
   "cell_type": "code",
   "execution_count": 4,
   "id": "fb60e20a",
   "metadata": {},
   "outputs": [],
   "source": [
    "# creating folder to store SWAT+ weather files\n",
    "folder_name = \"swat_local_weather\"\n",
    "os.makedirs(f\"{data_path}/{folder_name}\",exist_ok=True)"
   ]
  },
  {
   "cell_type": "markdown",
   "id": "27ef805c",
   "metadata": {},
   "source": [
    "We first create the .cli files"
   ]
  },
  {
   "cell_type": "code",
   "execution_count": 5,
   "id": "2bb45bf7",
   "metadata": {},
   "outputs": [
    {
     "name": "stdout",
     "output_type": "stream",
     "text": [
      "File data/CaseStudy/data/climate_data/local/swat_local_weather/pcp.cli succesfully saved\n",
      "File data/CaseStudy/data/climate_data/local/swat_local_weather/tmp.cli succesfully saved\n"
     ]
    }
   ],
   "source": [
    "station_list_df = pd.read_excel(stations_file)  # Read station list\n",
    "pcp_cli = \"pcp.cli\"\n",
    "tmp_cli = \"tmp.cli\"\n",
    "\n",
    "create_cli(station_list_df,\"pcp\",f\"{data_path}/{folder_name}/{pcp_cli}\")\n",
    "create_cli(station_list_df,\"tmp\",f\"{data_path}/{folder_name}/{tmp_cli}\")\n"
   ]
  },
  {
   "cell_type": "markdown",
   "id": "86fa73fb",
   "metadata": {},
   "source": [
    "Now the weather files with the timeseries"
   ]
  },
  {
   "cell_type": "code",
   "execution_count": 8,
   "id": "5a69c9f4",
   "metadata": {},
   "outputs": [
    {
     "name": "stdout",
     "output_type": "stream",
     "text": [
      "File data/CaseStudy/data/climate_data/local/swat_local_weather/Achocalla.pcp successfully saved\n",
      "File data/CaseStudy/data/climate_data/local/swat_local_weather/Alto_Achachicala.pcp successfully saved\n",
      "File data/CaseStudy/data/climate_data/local/swat_local_weather/Batallas.pcp successfully saved\n",
      "File data/CaseStudy/data/climate_data/local/swat_local_weather/Belen.pcp successfully saved\n",
      "File data/CaseStudy/data/climate_data/local/swat_local_weather/Calamarca.pcp successfully saved\n",
      "File data/CaseStudy/data/climate_data/local/swat_local_weather/Caquiaviri.pcp successfully saved\n",
      "File data/CaseStudy/data/climate_data/local/swat_local_weather/Chirapaca.pcp successfully saved\n",
      "File data/CaseStudy/data/climate_data/local/swat_local_weather/Chuñavi_Alto.pcp successfully saved\n",
      "File data/CaseStudy/data/climate_data/local/swat_local_weather/Collana.pcp successfully saved\n",
      "File data/CaseStudy/data/climate_data/local/swat_local_weather/Coniri.pcp successfully saved\n",
      "File data/CaseStudy/data/climate_data/local/swat_local_weather/Copancara.pcp successfully saved\n",
      "File data/CaseStudy/data/climate_data/local/swat_local_weather/Corpaputo.pcp successfully saved\n",
      "File data/CaseStudy/data/climate_data/local/swat_local_weather/El_Alto_Aeropuerto.pcp successfully saved\n",
      "File data/CaseStudy/data/climate_data/local/swat_local_weather/El_Tejar.pcp successfully saved\n",
      "File data/CaseStudy/data/climate_data/local/swat_local_weather/Hichucota.pcp successfully saved\n",
      "File data/CaseStudy/data/climate_data/local/swat_local_weather/Huarina_Cota_Cota.pcp successfully saved\n",
      "File data/CaseStudy/data/climate_data/local/swat_local_weather/Huatajata.pcp successfully saved\n",
      "File data/CaseStudy/data/climate_data/local/swat_local_weather/Huayna_Potosí.pcp successfully saved\n",
      "File data/CaseStudy/data/climate_data/local/swat_local_weather/Huayrocondo.pcp successfully saved\n",
      "File data/CaseStudy/data/climate_data/local/swat_local_weather/Irpa_Chico.pcp successfully saved\n",
      "File data/CaseStudy/data/climate_data/local/swat_local_weather/Mallasa.pcp successfully saved\n",
      "File data/CaseStudy/data/climate_data/local/swat_local_weather/Mecapaca.pcp successfully saved\n",
      "File data/CaseStudy/data/climate_data/local/swat_local_weather/Milluni.pcp successfully saved\n",
      "File data/CaseStudy/data/climate_data/local/swat_local_weather/Pasankeri.pcp successfully saved\n",
      "File data/CaseStudy/data/climate_data/local/swat_local_weather/Pucarani.pcp successfully saved\n",
      "File data/CaseStudy/data/climate_data/local/swat_local_weather/Puente_Negro.pcp successfully saved\n",
      "File data/CaseStudy/data/climate_data/local/swat_local_weather/Rio_Seco.pcp successfully saved\n",
      "File data/CaseStudy/data/climate_data/local/swat_local_weather/Santiago_De_Huata.pcp successfully saved\n",
      "File data/CaseStudy/data/climate_data/local/swat_local_weather/Tambillo_(LPZ).pcp successfully saved\n",
      "File data/CaseStudy/data/climate_data/local/swat_local_weather/Tambillo_LP.pcp successfully saved\n",
      "File data/CaseStudy/data/climate_data/local/swat_local_weather/Taraco.pcp successfully saved\n",
      "File data/CaseStudy/data/climate_data/local/swat_local_weather/Tiawanacu.pcp successfully saved\n",
      "File data/CaseStudy/data/climate_data/local/swat_local_weather/Tuni_EPSAS.pcp successfully saved\n",
      "File data/CaseStudy/data/climate_data/local/swat_local_weather/Viacha.pcp successfully saved\n",
      "File data/CaseStudy/data/climate_data/local/swat_local_weather/Villa_Adela.pcp successfully saved\n",
      "File data/CaseStudy/data/climate_data/local/swat_local_weather/Achocalla.tmp successfully saved\n",
      "File data/CaseStudy/data/climate_data/local/swat_local_weather/Alto_Achachicala.tmp successfully saved\n",
      "File data/CaseStudy/data/climate_data/local/swat_local_weather/Batallas.tmp successfully saved\n",
      "File data/CaseStudy/data/climate_data/local/swat_local_weather/Belen.tmp successfully saved\n",
      "File data/CaseStudy/data/climate_data/local/swat_local_weather/Calamarca.tmp successfully saved\n",
      "File data/CaseStudy/data/climate_data/local/swat_local_weather/Caquiaviri.tmp successfully saved\n",
      "File data/CaseStudy/data/climate_data/local/swat_local_weather/Chirapaca.tmp successfully saved\n",
      "File data/CaseStudy/data/climate_data/local/swat_local_weather/Chuñavi_Alto.tmp successfully saved\n",
      "File data/CaseStudy/data/climate_data/local/swat_local_weather/Collana.tmp successfully saved\n",
      "File data/CaseStudy/data/climate_data/local/swat_local_weather/Coniri.tmp successfully saved\n",
      "File data/CaseStudy/data/climate_data/local/swat_local_weather/Copancara.tmp successfully saved\n",
      "File data/CaseStudy/data/climate_data/local/swat_local_weather/Corpaputo.tmp successfully saved\n",
      "File data/CaseStudy/data/climate_data/local/swat_local_weather/El_Alto_Aeropuerto.tmp successfully saved\n",
      "File data/CaseStudy/data/climate_data/local/swat_local_weather/El_Tejar.tmp successfully saved\n",
      "File data/CaseStudy/data/climate_data/local/swat_local_weather/Hichucota.tmp successfully saved\n",
      "File data/CaseStudy/data/climate_data/local/swat_local_weather/Huarina_Cota_Cota.tmp successfully saved\n",
      "File data/CaseStudy/data/climate_data/local/swat_local_weather/Huatajata.tmp successfully saved\n",
      "File data/CaseStudy/data/climate_data/local/swat_local_weather/Huayna_Potosí.tmp successfully saved\n",
      "File data/CaseStudy/data/climate_data/local/swat_local_weather/Huayrocondo.tmp successfully saved\n",
      "File data/CaseStudy/data/climate_data/local/swat_local_weather/Irpa_Chico.tmp successfully saved\n",
      "File data/CaseStudy/data/climate_data/local/swat_local_weather/Mallasa.tmp successfully saved\n",
      "File data/CaseStudy/data/climate_data/local/swat_local_weather/Mecapaca.tmp successfully saved\n",
      "File data/CaseStudy/data/climate_data/local/swat_local_weather/Milluni.tmp successfully saved\n",
      "File data/CaseStudy/data/climate_data/local/swat_local_weather/Pasankeri.tmp successfully saved\n",
      "File data/CaseStudy/data/climate_data/local/swat_local_weather/Pucarani.tmp successfully saved\n",
      "File data/CaseStudy/data/climate_data/local/swat_local_weather/Puente_Negro.tmp successfully saved\n",
      "File data/CaseStudy/data/climate_data/local/swat_local_weather/Rio_Seco.tmp successfully saved\n",
      "File data/CaseStudy/data/climate_data/local/swat_local_weather/Santiago_De_Huata.tmp successfully saved\n",
      "File data/CaseStudy/data/climate_data/local/swat_local_weather/Tambillo_(LPZ).tmp successfully saved\n",
      "File data/CaseStudy/data/climate_data/local/swat_local_weather/Tambillo_LP.tmp successfully saved\n",
      "File data/CaseStudy/data/climate_data/local/swat_local_weather/Taraco.tmp successfully saved\n",
      "File data/CaseStudy/data/climate_data/local/swat_local_weather/Tiawanacu.tmp successfully saved\n",
      "File data/CaseStudy/data/climate_data/local/swat_local_weather/Tuni_EPSAS.tmp successfully saved\n",
      "File data/CaseStudy/data/climate_data/local/swat_local_weather/Viacha.tmp successfully saved\n",
      "File data/CaseStudy/data/climate_data/local/swat_local_weather/Villa_Adela.tmp successfully saved\n"
     ]
    }
   ],
   "source": [
    "CsvToSwatPlus(station_list_df,f\"{data_path}/{csv_folder}/{pcp_folder}\",\"pcp\",f\"{data_path}/{folder_name}\") # Precipitation\n",
    "CsvToSwatPlusTemp(station_list_df,f\"{data_path}/{csv_folder}/{tmp_folder}\",\"tmp\",f\"{data_path}/{folder_name}\") # Temperatures"
   ]
  }
 ],
 "metadata": {
  "kernelspec": {
   "display_name": "jopato_env",
   "language": "python",
   "name": "python3"
  },
  "language_info": {
   "codemirror_mode": {
    "name": "ipython",
    "version": 3
   },
   "file_extension": ".py",
   "mimetype": "text/x-python",
   "name": "python",
   "nbconvert_exporter": "python",
   "pygments_lexer": "ipython3",
   "version": "3.12.9"
  }
 },
 "nbformat": 4,
 "nbformat_minor": 5
}
